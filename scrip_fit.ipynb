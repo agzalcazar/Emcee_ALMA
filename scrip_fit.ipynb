{
 "cells": [
  {
   "cell_type": "code",
   "execution_count": 2,
   "id": "3090d640-72f4-419c-b2f1-0f1f3a7d67c2",
   "metadata": {
    "tags": []
   },
   "outputs": [
    {
     "name": "stdout",
     "output_type": "stream",
     "text": [
      "Fitting AL115.1....\n",
      "Running production...\n"
     ]
    },
    {
     "name": "stderr",
     "output_type": "stream",
     "text": [
      "  0%|                                                                                         | 0/4000 [00:00<?, ?it/s]C:\\Users\\agzal\\.conda\\envs\\TEA\\lib\\site-packages\\emcee\\moves\\red_blue.py:99: RuntimeWarning: invalid value encountered in scalar subtract\n",
      "  lnpdiff = f + nlp - state.log_prob[j]\n",
      "100%|██████████████████████████████████████████████████████████████████████████████| 4000/4000 [09:36<00:00,  6.94it/s]\n"
     ]
    },
    {
     "name": "stdout",
     "output_type": "stream",
     "text": [
      "Mean acceptance fraction: 0.087\n"
     ]
    },
    {
     "name": "stderr",
     "output_type": "stream",
     "text": [
      "WARNING:root:Too few points to create valid contours\n",
      "WARNING:root:Too few points to create valid contours\n",
      "WARNING:root:Too few points to create valid contours\n",
      "WARNING:root:Too few points to create valid contours\n",
      "WARNING:root:Too few points to create valid contours\n",
      "WARNING:root:Too few points to create valid contours\n",
      "WARNING:root:Too few points to create valid contours\n",
      "WARNING:root:Too few points to create valid contours\n",
      "WARNING:root:Too few points to create valid contours\n",
      "WARNING:root:Too few points to create valid contours\n",
      "WARNING:root:Too few points to create valid contours\n",
      "WARNING:root:Too few points to create valid contours\n",
      "WARNING:root:Too few points to create valid contours\n",
      "WARNING:root:Too few points to create valid contours\n",
      "WARNING:root:Too few points to create valid contours\n",
      "WARNING:root:Too few points to create valid contours\n",
      "WARNING:root:Too few points to create valid contours\n",
      "WARNING:root:Too few points to create valid contours\n"
     ]
    },
    {
     "name": "stdout",
     "output_type": "stream",
     "text": [
      "amplitude: 74.88865924725081\n",
      "x_0: 0.011355393167083505\n",
      "y_0: 0.0012630645814052082\n",
      "sigma_x: 0.018806005306339434\n",
      "sigma_y: 0.0006362165872121844\n",
      "theta: 92.97061583721646\n",
      "amplitude_sersic: 0.011523307154546551\n",
      "r_eff: 0.13454462631926428\n",
      "ellip: 0.14704880029475356\n",
      "angle_sersic: 113.21097831377296\n"
     ]
    },
    {
     "ename": "TypeError",
     "evalue": "log_likelihood() missing 3 required positional arguments: 'bmaj', 'bpa', and 'profile'",
     "output_type": "error",
     "traceback": [
      "\u001b[1;31m---------------------------------------------------------------------------\u001b[0m",
      "\u001b[1;31mTypeError\u001b[0m                                 Traceback (most recent call last)",
      "Cell \u001b[1;32mIn[2], line 386\u001b[0m\n\u001b[0;32m    347\u001b[0m         \u001b[38;5;28mprint\u001b[39m(\u001b[38;5;124m'\u001b[39m\u001b[38;5;124mend\u001b[39m\u001b[38;5;124m'\u001b[39m)\n\u001b[0;32m    349\u001b[0m     \u001b[38;5;28;01melif\u001b[39;00m profile \u001b[38;5;241m==\u001b[39m \u001b[38;5;124m'\u001b[39m\u001b[38;5;124mC\u001b[39m\u001b[38;5;124m'\u001b[39m:\n\u001b[0;32m    352\u001b[0m         data \u001b[38;5;241m=\u001b[39m data\u001b[38;5;241m.\u001b[39mappend({\u001b[38;5;124m'\u001b[39m\u001b[38;5;124mSource\u001b[39m\u001b[38;5;124m'\u001b[39m: names[i],\n\u001b[0;32m    353\u001b[0m                         \u001b[38;5;124m'\u001b[39m\u001b[38;5;124mSN\u001b[39m\u001b[38;5;124m'\u001b[39m: sn,\n\u001b[0;32m    354\u001b[0m                         \u001b[38;5;124m'\u001b[39m\u001b[38;5;124mRelative RA [arcsec]\u001b[39m\u001b[38;5;124m'\u001b[39m: x_0_emcee,\n\u001b[0;32m    355\u001b[0m                         \u001b[38;5;124m'\u001b[39m\u001b[38;5;124mRelative RA low\u001b[39m\u001b[38;5;124m'\u001b[39m: x_0_emcee_low,\n\u001b[0;32m    356\u001b[0m                         \u001b[38;5;124m'\u001b[39m\u001b[38;5;124mRelative RA up\u001b[39m\u001b[38;5;124m'\u001b[39m: x_0_emcee_up,\n\u001b[0;32m    357\u001b[0m                         \u001b[38;5;124m'\u001b[39m\u001b[38;5;124mRelative Dec [arcsec]\u001b[39m\u001b[38;5;124m'\u001b[39m: y_0_emcee,\n\u001b[0;32m    358\u001b[0m                         \u001b[38;5;124m'\u001b[39m\u001b[38;5;124mRelative Dec low\u001b[39m\u001b[38;5;124m'\u001b[39m: y_0_emcee_low,\n\u001b[0;32m    359\u001b[0m                         \u001b[38;5;124m'\u001b[39m\u001b[38;5;124mRelative Dec up\u001b[39m\u001b[38;5;124m'\u001b[39m: y_0_emcee_up,\n\u001b[0;32m    360\u001b[0m                         \u001b[38;5;124m'\u001b[39m\u001b[38;5;124mFWHM x [arcsec]\u001b[39m\u001b[38;5;124m'\u001b[39m: FWHM_x_emcee,\n\u001b[0;32m    361\u001b[0m                         \u001b[38;5;124m'\u001b[39m\u001b[38;5;124mFWHM x low\u001b[39m\u001b[38;5;124m'\u001b[39m: \u001b[38;5;241m2\u001b[39m \u001b[38;5;241m*\u001b[39m np\u001b[38;5;241m.\u001b[39msqrt(\u001b[38;5;241m2\u001b[39m \u001b[38;5;241m*\u001b[39m np\u001b[38;5;241m.\u001b[39mlog(\u001b[38;5;241m2\u001b[39m)) \u001b[38;5;241m*\u001b[39m sigma_x_emcee_low,\n\u001b[0;32m    362\u001b[0m                         \u001b[38;5;124m'\u001b[39m\u001b[38;5;124mFWHM x up\u001b[39m\u001b[38;5;124m'\u001b[39m: \u001b[38;5;241m2\u001b[39m \u001b[38;5;241m*\u001b[39m np\u001b[38;5;241m.\u001b[39msqrt(\u001b[38;5;241m2\u001b[39m \u001b[38;5;241m*\u001b[39m np\u001b[38;5;241m.\u001b[39mlog(\u001b[38;5;241m2\u001b[39m)) \u001b[38;5;241m*\u001b[39m sigma_x_emcee_up,\n\u001b[0;32m    363\u001b[0m                         \u001b[38;5;124m'\u001b[39m\u001b[38;5;124mFWHM y [arcsec]\u001b[39m\u001b[38;5;124m'\u001b[39m: FWHM_y_emcee,\n\u001b[0;32m    364\u001b[0m                         \u001b[38;5;124m'\u001b[39m\u001b[38;5;124mFWHM y low\u001b[39m\u001b[38;5;124m'\u001b[39m: \u001b[38;5;241m2\u001b[39m \u001b[38;5;241m*\u001b[39m np\u001b[38;5;241m.\u001b[39msqrt(\u001b[38;5;241m2\u001b[39m \u001b[38;5;241m*\u001b[39m np\u001b[38;5;241m.\u001b[39mlog(\u001b[38;5;241m2\u001b[39m)) \u001b[38;5;241m*\u001b[39m sigma_y_emcee_low,\n\u001b[0;32m    365\u001b[0m                         \u001b[38;5;124m'\u001b[39m\u001b[38;5;124mFWHM y up\u001b[39m\u001b[38;5;124m'\u001b[39m: \u001b[38;5;241m2\u001b[39m \u001b[38;5;241m*\u001b[39m np\u001b[38;5;241m.\u001b[39msqrt(\u001b[38;5;241m2\u001b[39m \u001b[38;5;241m*\u001b[39m np\u001b[38;5;241m.\u001b[39mlog(\u001b[38;5;241m2\u001b[39m)) \u001b[38;5;241m*\u001b[39m sigma_y_emcee_up,\n\u001b[0;32m    366\u001b[0m                         \u001b[38;5;124m'\u001b[39m\u001b[38;5;124mAngle G [deg]\u001b[39m\u001b[38;5;124m'\u001b[39m: angle_emcee,\n\u001b[0;32m    367\u001b[0m                         \u001b[38;5;124m'\u001b[39m\u001b[38;5;124mAngle G low\u001b[39m\u001b[38;5;124m'\u001b[39m: angle_emcee_low,\n\u001b[0;32m    368\u001b[0m                         \u001b[38;5;124m'\u001b[39m\u001b[38;5;124mAngle G up\u001b[39m\u001b[38;5;124m'\u001b[39m: angle_emcee_up,\n\u001b[0;32m    369\u001b[0m                         \u001b[38;5;124m'\u001b[39m\u001b[38;5;124mAmplitude G [mJy]\u001b[39m\u001b[38;5;124m'\u001b[39m: amplitude_emcee,\n\u001b[0;32m    370\u001b[0m                         \u001b[38;5;124m'\u001b[39m\u001b[38;5;124mAmplitude G low\u001b[39m\u001b[38;5;124m'\u001b[39m: amplitude_emcee_low,\n\u001b[0;32m    371\u001b[0m                         \u001b[38;5;124m'\u001b[39m\u001b[38;5;124mAmplitude G up\u001b[39m\u001b[38;5;124m'\u001b[39m: amplitude_emcee_up,\n\u001b[0;32m    372\u001b[0m                         \u001b[38;5;124m'\u001b[39m\u001b[38;5;124mAmplitude S [mJy]\u001b[39m\u001b[38;5;124m'\u001b[39m: amplitude_sersic_emcee,\n\u001b[0;32m    373\u001b[0m                         \u001b[38;5;124m'\u001b[39m\u001b[38;5;124mAmplitude S low\u001b[39m\u001b[38;5;124m'\u001b[39m: amplitude_sersic_emcee_low,\n\u001b[0;32m    374\u001b[0m                         \u001b[38;5;124m'\u001b[39m\u001b[38;5;124mAmplitude S up\u001b[39m\u001b[38;5;124m'\u001b[39m: amplitude_sersic_emcee_up,\n\u001b[0;32m    375\u001b[0m                         \u001b[38;5;124m'\u001b[39m\u001b[38;5;124mAngle S [deg]\u001b[39m\u001b[38;5;124m'\u001b[39m: angle_sersic_emcee,\n\u001b[0;32m    376\u001b[0m                         \u001b[38;5;124m'\u001b[39m\u001b[38;5;124mAngle S low\u001b[39m\u001b[38;5;124m'\u001b[39m: angle_sersic_emcee_low,\n\u001b[0;32m    377\u001b[0m                         \u001b[38;5;124m'\u001b[39m\u001b[38;5;124mAngle S up\u001b[39m\u001b[38;5;124m'\u001b[39m: angle_sersic_emcee_up,\n\u001b[0;32m    378\u001b[0m                         \u001b[38;5;124m'\u001b[39m\u001b[38;5;124mEffective radius [arcsec]\u001b[39m\u001b[38;5;124m'\u001b[39m: r_eff_emcee,\n\u001b[0;32m    379\u001b[0m                         \u001b[38;5;124m'\u001b[39m\u001b[38;5;124mEffective radius low\u001b[39m\u001b[38;5;124m'\u001b[39m: r_eff_emcee_low,\n\u001b[0;32m    380\u001b[0m                         \u001b[38;5;124m'\u001b[39m\u001b[38;5;124mEffective radius up\u001b[39m\u001b[38;5;124m'\u001b[39m: r_eff_emcee_up,\n\u001b[0;32m    381\u001b[0m                         \u001b[38;5;124m'\u001b[39m\u001b[38;5;124mEllipticity\u001b[39m\u001b[38;5;124m'\u001b[39m: ellip_emcee,\n\u001b[0;32m    382\u001b[0m                         \u001b[38;5;124m'\u001b[39m\u001b[38;5;124mEllipticity low\u001b[39m\u001b[38;5;124m'\u001b[39m: ellip_emcee_low,\n\u001b[0;32m    383\u001b[0m                         \u001b[38;5;124m'\u001b[39m\u001b[38;5;124mEllipticity up\u001b[39m\u001b[38;5;124m'\u001b[39m: ellip_emcee_up,\n\u001b[0;32m    384\u001b[0m                         \u001b[38;5;124m'\u001b[39m\u001b[38;5;124mBeam min [arcsec]\u001b[39m\u001b[38;5;124m'\u001b[39m:fits_file[\u001b[38;5;241m0\u001b[39m]\u001b[38;5;241m.\u001b[39mheader[\u001b[38;5;124m'\u001b[39m\u001b[38;5;124mBMIN\u001b[39m\u001b[38;5;124m'\u001b[39m] \u001b[38;5;241m*\u001b[39m \u001b[38;5;241m3600\u001b[39m,\n\u001b[0;32m    385\u001b[0m                         \u001b[38;5;124m'\u001b[39m\u001b[38;5;124mBeam maj [arcsec]\u001b[39m\u001b[38;5;124m'\u001b[39m:fits_file[\u001b[38;5;241m0\u001b[39m]\u001b[38;5;241m.\u001b[39mheader[\u001b[38;5;124m'\u001b[39m\u001b[38;5;124mBMAJ\u001b[39m\u001b[38;5;124m'\u001b[39m] \u001b[38;5;241m*\u001b[39m \u001b[38;5;241m3600\u001b[39m,\n\u001b[1;32m--> 386\u001b[0m                         \u001b[38;5;124m'\u001b[39m\u001b[38;5;124mBIC\u001b[39m\u001b[38;5;124m'\u001b[39m:\u001b[43mmyUtils\u001b[49m\u001b[38;5;241;43m.\u001b[39;49m\u001b[43mbic\u001b[49m\u001b[43m(\u001b[49m\u001b[43mparameters_fit_50\u001b[49m\u001b[43m,\u001b[49m\u001b[43m \u001b[49m\u001b[43mx_grid\u001b[49m\u001b[43m,\u001b[49m\u001b[43m \u001b[49m\u001b[43my_grid\u001b[49m\u001b[43m,\u001b[49m\u001b[43m \u001b[49m\u001b[43mflux\u001b[49m\u001b[43m,\u001b[49m\u001b[43m \u001b[49m\u001b[43mprofile\u001b[49m\u001b[43m)\u001b[49m,\n\u001b[0;32m    387\u001b[0m                         \u001b[38;5;124m'\u001b[39m\u001b[38;5;124mFlux [mJy]\u001b[39m\u001b[38;5;124m'\u001b[39m:integr,\n\u001b[0;32m    388\u001b[0m                         \u001b[38;5;124m'\u001b[39m\u001b[38;5;124mFlux err\u001b[39m\u001b[38;5;124m'\u001b[39m:integral_noise              \n\u001b[0;32m    389\u001b[0m                         }, ignore_index\u001b[38;5;241m=\u001b[39m\u001b[38;5;28;01mTrue\u001b[39;00m)\n\u001b[0;32m    391\u001b[0m \u001b[38;5;66;03m# data.to_csv('data_fit_sersic.csv', index=False, sep=',')\u001b[39;00m\n",
      "File \u001b[1;32mG:\\Mi unidad\\Universidad\\Master_Astro\\TFM\\codes\\Gaussian fitting\\utils.py:366\u001b[0m, in \u001b[0;36mbic\u001b[1;34m(parameters, x, y, flux, profile)\u001b[0m\n\u001b[0;32m    352\u001b[0m \u001b[38;5;250m\u001b[39m\u001b[38;5;124;03m\"\"\"\u001b[39;00m\n\u001b[0;32m    353\u001b[0m \u001b[38;5;124;03mReturns the BIC score of a model.\u001b[39;00m\n\u001b[0;32m    354\u001b[0m \u001b[38;5;124;03mInput:-\u001b[39;00m\n\u001b[1;32m   (...)\u001b[0m\n\u001b[0;32m    359\u001b[0m \u001b[38;5;124;03mscore: It outputs the BIC score type = int\u001b[39;00m\n\u001b[0;32m    360\u001b[0m \u001b[38;5;124;03m\"\"\"\u001b[39;00m\n\u001b[0;32m    362\u001b[0m \u001b[38;5;66;03m# nll = lambda *args: -sum(log_likelihood(*args))\u001b[39;00m\n\u001b[0;32m    363\u001b[0m \u001b[38;5;66;03m# initial = np.array(initial)\u001b[39;00m\n\u001b[0;32m    364\u001b[0m \u001b[38;5;66;03m# soln = minimize(nll, initial, args=(x.ravel(), y.ravel(), flux.ravel(), std_image(flux)))\u001b[39;00m\n\u001b[0;32m    365\u001b[0m \u001b[38;5;66;03m# MLE_ll = sum(log_likelihood(soln.x, x.ravel(), y.ravel(), flux.ravel(), std_image(flux)))\u001b[39;00m\n\u001b[1;32m--> 366\u001b[0m MLE_ll \u001b[38;5;241m=\u001b[39m \u001b[38;5;28msum\u001b[39m(\u001b[43mlog_likelihood\u001b[49m\u001b[43m(\u001b[49m\u001b[43mparameters\u001b[49m\u001b[43m,\u001b[49m\u001b[43m \u001b[49m\u001b[43mx\u001b[49m\u001b[38;5;241;43m.\u001b[39;49m\u001b[43mravel\u001b[49m\u001b[43m(\u001b[49m\u001b[43m)\u001b[49m\u001b[43m,\u001b[49m\u001b[43m \u001b[49m\u001b[43my\u001b[49m\u001b[38;5;241;43m.\u001b[39;49m\u001b[43mravel\u001b[49m\u001b[43m(\u001b[49m\u001b[43m)\u001b[49m\u001b[43m,\u001b[49m\u001b[43m \u001b[49m\u001b[43mflux\u001b[49m\u001b[38;5;241;43m.\u001b[39;49m\u001b[43mravel\u001b[49m\u001b[43m(\u001b[49m\u001b[43m)\u001b[49m\u001b[43m,\u001b[49m\u001b[43m \u001b[49m\u001b[43mstd_image\u001b[49m\u001b[43m(\u001b[49m\u001b[43mflux\u001b[49m\u001b[43m)\u001b[49m\u001b[43m,\u001b[49m\u001b[43m \u001b[49m\u001b[43mprofile\u001b[49m\u001b[43m)\u001b[49m)\n\u001b[0;32m    367\u001b[0m p \u001b[38;5;241m=\u001b[39m \u001b[38;5;28mlen\u001b[39m(parameters)\n\u001b[0;32m    368\u001b[0m BIC \u001b[38;5;241m=\u001b[39m p \u001b[38;5;241m*\u001b[39m np\u001b[38;5;241m.\u001b[39mlog(x\u001b[38;5;241m.\u001b[39mshape[\u001b[38;5;241m0\u001b[39m] \u001b[38;5;241m*\u001b[39m x\u001b[38;5;241m.\u001b[39mshape[\u001b[38;5;241m1\u001b[39m]) \u001b[38;5;241m-\u001b[39m \u001b[38;5;241m2\u001b[39m \u001b[38;5;241m*\u001b[39m MLE_ll\n",
      "\u001b[1;31mTypeError\u001b[0m: log_likelihood() missing 3 required positional arguments: 'bmaj', 'bpa', and 'profile'"
     ]
    }
   ],
   "source": [
    "import emcee\n",
    "import matplotlib.pyplot as plt\n",
    "import numpy as np\n",
    "import astropy.io.fits as pyfits\n",
    "import pandas as pd\n",
    "import corner\n",
    "import os\n",
    "import utils as myUtils\n",
    "from matplotlib.patches import Ellipse\n",
    "from astropy.modeling.functional_models import Sersic2D\n",
    "import multiprocessing as mp\n",
    "\n",
    "from multiprocessing import Pool\n",
    "\n",
    "path = r'G:\\Mi unidad\\Universidad\\Master_Astro\\TFM\\ALMA_images\\Original\\\\'\n",
    "sources = os.listdir(path)[0:-1]\n",
    "profile = 'C'\n",
    "\n",
    "# names = ['AL-65.1', 'AL-57.1', 'AL115.1', 'AL74.1', 'AL71.1', 'AL70.1', 'AL49.1', 'AL19.1', 'AL11.1', 'AL-122.1',\n",
    "#          'AL-116.2', 'AL-84.1', 'AL-80.1', 'AL-75.1', 'AL-66.1', 'LESS76', 'LESS73', 'LESS67', 'LESS45', 'LESS39',\n",
    "#          'LESS29', 'LESS17', 'LESS15', 'LESS10', 'LESS9', 'LESS5', 'LESS3', 'LESS1', 'XID917', 'XID371',\n",
    "#          'XID360', 'XID301', 'XID156', 'XID36', 'LESS112', 'LESS101']\n",
    "\n",
    "#names = ['AL49.1','AL-65.1', 'AL115.1', 'AL71.1', 'AL11.1', 'AL-84.1','AL-75.1', 'LESS39',\n",
    "#        'LESS15','LESS3','LESS76','XID360']\n",
    "\n",
    "names = ['AL115.1']\n",
    "if profile == 'A':\n",
    "    data = pd.DataFrame(\n",
    "        columns=['Source', 'SN', 'Relative RA [arcsec]', 'Relative RA low', 'Relative RA up',\n",
    "        'Relative Dec [arcsec]', 'Relative Dec low', 'Relative Dec up', 'Effective radius [arcsec]',\n",
    "        'Effective radius low', 'Effective radius up', 'Ellipticity', 'Ellipticity low',\n",
    "        'Ellipticity up', 'Angle [deg]', 'Angle low', 'Angle up', 'Amplitude [mJy]', 'Amplitude low',\n",
    "        'Amplitude up', 'Beam min [arcsec]', 'Beam maj [arcsec]', 'BIC', 'Flux [mJy]', 'Flux err'])\n",
    "\n",
    "elif profile == 'B':\n",
    "    data = pd.DataFrame(\n",
    "        columns=['Source', 'SN', 'Relative RA [arcsec]', 'Relative RA low', 'Relative RA up',\n",
    "        'Relative Dec [arcsec]', 'Relative Dec low', 'Relative Dec up', 'FWHM x [arcsec]',\n",
    "        'FWHM x low', 'FWHM x up', 'FWHM y [arcsec]', 'FWHM y low', 'FWHM y up', 'Angle G [deg]',\n",
    "        'Angle G low', 'Angle G up', 'Amplitude G [mJy]', 'Amplitude G low', 'Amplitude G up',\n",
    "        'Beam min [arcsec]', 'Beam maj [arcsec]', 'BIC', 'Flux [mJy]', 'Flux err'])\n",
    "    \n",
    "elif profile == 'C':\n",
    "    \n",
    "    data = pd.DataFrame(columns=['Source','SN','Relative RA [arcsec]', 'Relative RA low', 'Relative RA up',\n",
    "                  'Relative Dec [arcsec]','Relative Dec low','Relative Dec up','FWHM x [arcsec]',\n",
    "                  'FWHM x low','FWHM x up','FWHM y [arcsec]','FWHM y low',\n",
    "                  'FWHM y up','Angle G [deg]','Angle G low','Angle G up',\n",
    "                  'Amplitude G [mJy]','Amplitude G low','Amplitude G up',\n",
    "                  'Amplitude S [mJy]','Amplitude S low','Amplitude S up',\n",
    "                  'Angle S [deg]','Angle S low','Angle S up',\n",
    "                  'Effective radius [arcsec]','Effective radius low','Effective radius up',\n",
    "                  'Ellipticity','Ellipticity low','Ellipticity up',                  \n",
    "                  'Beam min [arcsec]', 'Beam maj [arcsec]', 'BIC', 'Flux [mJy]', 'Flux err'])\n",
    "\n",
    "for i in range(0, len(names)):\n",
    "    print('Fitting ' + names[i] + '....')\n",
    "\n",
    "    fits_file = pyfits.open(path + sources[i])\n",
    "\n",
    "    if sources[i] == 'cont_clean_AL-75.1_plot_briggs.fits':\n",
    "        image_data = fits_file[0].data\n",
    "    else:\n",
    "        image_data = fits_file[0].data[0][0]\n",
    "\n",
    "    flux = myUtils.zoom(image_data, 34)\n",
    "    x_center = flux.shape[0] / 2\n",
    "    y_center = flux.shape[1] / 2\n",
    "    ra_center = fits_file[0].header['CRVAL1']\n",
    "    dec_center = fits_file[0].header['CRVAL2']\n",
    "    dx = fits_file[0].header['CDELT1']\n",
    "    dy = fits_file[0].header['CDELT2']\n",
    "    bmaj = fits_file[0].header['BMAJ']  # convert from degrees to arcsec\n",
    "    bmin = fits_file[0].header['BMIN']\n",
    "    bpa = fits_file[0].header['BPA']\n",
    "\n",
    "    flux = flux * 10 ** 3 * ( (4 * np.log(2) / (np.pi * bmaj * bmin/(dx**2))) ) # units: [mJY] It isn't a density\n",
    "\n",
    "\n",
    "    x_extent = (np.array([0., flux.shape[1]]) - (flux.shape[1] - x_center + 0.5)) * dx * 3600 * (\n",
    "        -1)  # half pixel to center the map\n",
    "    y_extent = (np.array([0., flux.shape[0]]) - (flux.shape[0] - y_center + 0.5)) * dy * 3600\n",
    "    extent = [x_extent[0], x_extent[1], y_extent[0], y_extent[1]]\n",
    "\n",
    "    x_grid = np.linspace(x_extent[0], x_extent[1], flux.shape[1])\n",
    "    y_grid = np.linspace(y_extent[0], y_extent[1], flux.shape[0])\n",
    "    x_grid, y_grid = np.meshgrid(x_grid, y_grid)\n",
    "    sn = myUtils.s_n(flux)\n",
    "    bmin_s = np.abs(bmin * 3600) / (2 * np.sqrt(2 * np.log(2)))  # unidades de sigma\n",
    "    bmaj_s = np.abs(bmaj * 3600) / (2 * np.sqrt(2 * np.log(2)))\n",
    "\n",
    "    ### Fitting with curve fit ###\n",
    "    popt, pcov = myUtils.get_parameter_curve_fit(flux, x_grid, y_grid, profile=profile, beam=[bmin_s, bmaj_s])\n",
    "\n",
    "    if profile == 'A':\n",
    "        amplitude_sersic, r_eff, x_0, y_0, ellip, angle_sersic = popt  # sersic\n",
    "        pos = [amplitude_sersic, r_eff, x_0, y_0, ellip, angle_sersic]\n",
    "        labels = ['amplitude_sersic', 'r_eff', 'x_0', 'y_0', 'ellip', 'angle_sersic']\n",
    "\n",
    "    elif profile == 'B':\n",
    "        x_0, y_0, sigma_y, sigmax_minus_y, amplitude, theta = popt  # gaussian\n",
    "        sigma_x = sigma_y + np.abs(sigmax_minus_y)\n",
    "        pos = [amplitude, x_0, y_0, sigma_x, sigma_y, theta]\n",
    "        labels = ['amplitude', 'x_0', 'y_0', 'sigma_x', 'sigma_y', 'theta']\n",
    "\n",
    "    elif profile == 'C':\n",
    "        x_0, y_0, sigma_y, sigmax_minus_y, amplitude, theta, amplitude_sersic, r_eff, ellip, angle_sersic = popt\n",
    "        sigma_x = sigma_y + np.abs(sigmax_minus_y)\n",
    "        pos = [amplitude, x_0, y_0, sigma_x, sigma_y, theta, amplitude_sersic, r_eff, ellip, angle_sersic]\n",
    "        labels = ['amplitude', 'x_0', 'y_0', 'sigma_x', 'sigma_y', 'theta', 'amplitude_sersic', 'r_eff', 'ellip',\n",
    "                  'angle_sersic']\n",
    "\n",
    "    ### Fitting with emcee ###\n",
    "    ndim, nwalkers = len(pos), 600\n",
    "    pos = [np.abs(np.random.normal(pos, 0.01)) for l in range(nwalkers)]  # initialing araund a normal\n",
    "\n",
    "    with Pool() as pool:\n",
    "    \n",
    "        sampler = emcee.EnsembleSampler(nwalkers, ndim, myUtils.log_probability, \n",
    "                                args=[x_grid.ravel(), y_grid.ravel(), flux.ravel(),\n",
    "                                      myUtils.std_image(flux), [],\n",
    "                                      bmin_s,bmaj_s,bpa,profile],\n",
    "                                pool=pool)#, blobs_dtype=dtype)\n",
    "\n",
    "        print(\"Running production...\")\n",
    "        sampler.run_mcmc(pos, 4000, progress=True);\n",
    "\n",
    "    print(\"Mean acceptance fraction: {0:.3f}\".format(np.mean(sampler.acceptance_fraction)))\n",
    "\n",
    "    fig, axes = plt.subplots(len(labels), figsize=(11, 20), sharex=True)\n",
    "    samples = sampler.get_chain()\n",
    "    for j in range(len(labels)):\n",
    "        ax = axes[j]\n",
    "        ax.plot(samples[:, :, j], \"k\", alpha=0.3)\n",
    "        ax.set_xlim(0, len(samples))\n",
    "        ax.set_ylabel(labels[j])\n",
    "        ax.yaxis.set_label_coords(-0.1, 0.5)\n",
    "\n",
    "    axes[-1].set_xlabel(\"step number\")\n",
    "    del (samples)\n",
    "    #plt.savefig('chains_' + str(names[i]) + '.jpg')\n",
    "    plt.close(fig)\n",
    "\n",
    "    flat_samples = sampler.get_chain(discard=500, thin=10, flat=True)\n",
    "    fig = corner.corner(flat_samples, labels=labels, quantiles=[0.16, 0.5, 0.84], show_titles=True)\n",
    "    #plt.savefig('coner_Plot_' + str(names[i]) + '.png')\n",
    "    plt.close(fig)\n",
    "\n",
    "    parameters_fit_50 = []\n",
    "    upper_limits = []\n",
    "    low_limits = []\n",
    "    # hdp = [] # highest posterior density (HPD) of array for given alpha 0.05\n",
    "    for j in range(ndim):\n",
    "        mcmc = np.percentile(flat_samples[500:, j], [16, 50, 84])\n",
    "        q = np.diff(mcmc)\n",
    "        # hpd_, _, _, _ = myUtils.hpd_grid(flat_samples[100:, j])\n",
    "        parameters_fit_50.append(mcmc[1])\n",
    "        low_limits.append(q[0])\n",
    "        upper_limits.append(q[1])\n",
    "\n",
    "    # hdp.append(hpd_)\n",
    "    # hdp = np.asarray(hdp)\n",
    "    del (flat_samples)\n",
    "\n",
    "    for n, j in enumerate(labels):\n",
    "        print(j + ':', parameters_fit_50[n])\n",
    "\n",
    "    #### Maps\n",
    "\n",
    "    flux2 = myUtils.zoom(image_data, 50) * 10 ** 3 * ( (4 * np.log(2) / (np.pi * bmaj * bmin/(dx**2))) )\n",
    "    x_center2 = flux2.shape[0] / 2\n",
    "    y_center2 = flux2.shape[1] / 2\n",
    "    x_extent2 = (np.array([0., flux2.shape[1]]) - (flux2.shape[1] - x_center2 + 0.5)) * dx * 3600 * (\n",
    "        -1)  # half pixel to center the map\n",
    "    y_extent2 = (np.array([0., flux2.shape[0]]) - (flux2.shape[0] - y_center2 + 0.5)) * dy * 3600\n",
    "    extent2 = [x_extent2[0], x_extent2[1], y_extent2[0], y_extent2[1]]\n",
    "\n",
    "    x_grid2 = np.linspace(x_extent2[0], x_extent2[1], flux2.shape[1])\n",
    "    y_grid2 = np.linspace(y_extent2[0], y_extent2[1], flux2.shape[0])\n",
    "    x_grid2, y_grid2 = np.meshgrid(x_grid2, y_grid2)\n",
    "\n",
    "    plt.rcParams.update({'font.size': 16})\n",
    "    plt.rcParams.update({'xtick.labelsize': 16})\n",
    "    plt.rcParams.update({'ytick.labelsize': 16})\n",
    "    plt.rcParams.update({'axes.linewidth': 2})\n",
    "    fig, ax = plt.subplots(nrows=1, ncols=2, sharey=True, sharex=True, figsize=(10.5, 5))\n",
    "\n",
    "    plt1 = ax[0].imshow(flux2, cmap='YlOrRd', origin='lower', extent=extent2, vmin=flux2.min(), vmax=flux2.max())\n",
    "\n",
    "    rms = myUtils.std_image(flux2)\n",
    "\n",
    "    levels = [-2 * rms, 2 * rms, 4 * rms, 6 * rms, 10 * rms, 15 * rms, 20 * rms]\n",
    "    plt2 = ax[0].contour(flux2, levels, colors='k', alpha=0.8, linewidths=1.0, extent=extent2)\n",
    "    ax[0].set_xlabel('Relative RA [arcsec]')\n",
    "    ax[0].set_ylabel('Relative Dec [arcsec]')\n",
    "\n",
    "    # plot the best fit ellipse emcee\n",
    "    if profile == 'A':\n",
    "        amplitude_sersic_emcee, r_eff_emcee, x_0_emcee, y_0_emcee, ellip_emcee, angle_sersic_emcee = parameters_fit_50\n",
    "        amplitude_sersic_emcee_up, r_eff_emcee_up, x_0_emcee_up, y_0_emcee_up, ellip_emcee_up, angle_sersic_emcee_up = upper_limits\n",
    "        amplitude_sersic_emcee_low, r_eff_emcee_low, x_0_emcee_low, y_0_emcee_low, ellip_emcee_low, angle_sersic_emcee_low = low_limits\n",
    "        ax[0].scatter(x_0_emcee, y_0_emcee, marker=\"x\", s=20)\n",
    "\n",
    "        a, b = r_eff_emcee, (1 - ellip_emcee) * r_eff_emcee\n",
    "        pa_deg_emcee = 180 - angle_sersic\n",
    "\n",
    "        fit_ellipse_emcee_ser = Ellipse((x_0_emcee, y_0_emcee), width=a*2, height=b*2, angle=pa_deg_emcee, facecolor='none', edgecolor='green', alpha=1.0, lw=2, zorder=200)\n",
    "\n",
    "        ax[0].add_artist(fit_ellipse_emcee_ser)\n",
    "        mod = Sersic2D(amplitude=amplitude_sersic_emcee, r_eff=r_eff_emcee, n=1, x_0=x_0_emcee, y_0=y_0_emcee, ellip=ellip_emcee, theta=np.radians(180 - angle_sersic))\n",
    "        fobs2 = mod(x_grid2, y_grid2)\n",
    "\n",
    "    elif profile == 'B':\n",
    "        amplitude_emcee, x_0_emcee, y_0_emcee, sigma_x_emcee, sigma_y_emcee, angle_emcee = parameters_fit_50\n",
    "        amplitude_emcee_up, x_0_emcee_up, y_0_emcee_up, sigma_x_emcee_up, sigma_y_emcee_up, angle_emcee_up = upper_limits\n",
    "        amplitude_emcee_low, x_0_emcee_low, y_0_emcee_low, sigma_x_emcee_low, sigma_y_emcee_low, angle_emcee_low = low_limits\n",
    "        ax[0].scatter(x_0_emcee, y_0_emcee, marker=\"x\", s=20)\n",
    "\n",
    "        FWHM_x_emcee = 2 * np.sqrt(2 * np.log(2)) * sigma_x_emcee\n",
    "        FWHM_y_emcee = 2 * np.sqrt(2 * np.log(2)) * sigma_y_emcee\n",
    "        pa_deg_emcee = 180 - angle_emcee\n",
    "        fit_ellipse_emcee_gauss = Ellipse((x_0_emcee, y_0_emcee), width=0.5 * FWHM_x_emcee * 2, height=0.5 * FWHM_y_emcee *2,\n",
    "                                          angle=pa_deg_emcee, facecolor='none', edgecolor='blue', alpha=1.0, lw=1,\n",
    "                                          zorder=200)\n",
    "        ax[0].add_artist(fit_ellipse_emcee_gauss)\n",
    "        Gauss = myUtils.model_twoD_Gaussian([amplitude_emcee, x_0_emcee, y_0_emcee, sigma_x_emcee, sigma_y_emcee, angle_emcee],\n",
    "            x_grid2, y_grid2).reshape(50, 50)\n",
    "        fobs2 = Gauss\n",
    "\n",
    "    if profile == 'C':\n",
    "        amplitude_emcee, x_0_emcee, y_0_emcee, sigma_x_emcee, sigma_y_emcee, angle_emcee, amplitude_sersic_emcee, r_eff_emcee, ellip_emcee, angle_sersic_emcee = parameters_fit_50\n",
    "        amplitude_emcee_up, x_0_emcee_up, y_0_emcee_up, sigma_x_emcee_up, sigma_y_emcee_up, angle_emcee_up, amplitude_sersic_emcee_up, r_eff_emcee_up, ellip_emcee_up, angle_sersic_emcee_up = upper_limits\n",
    "        amplitude_emcee_low, x_0_emcee_low, y_0_emcee_low, sigma_x_emcee_low, sigma_y_emcee_low, angle_emcee_low, amplitude_sersic_emcee_low, r_eff_emcee_low, ellip_emcee_low, angle_sersic_emcee_low = low_limits\n",
    "        ax[0].scatter(x_0_emcee, y_0_emcee, marker=\"x\", s=20)\n",
    "\n",
    "        FWHM_x_emcee = 2 * np.sqrt(2 * np.log(2)) * sigma_x_emcee\n",
    "        FWHM_y_emcee = 2 * np.sqrt(2 * np.log(2)) * sigma_y_emcee\n",
    "        pa_deg_emcee = 180 - angle_emcee\n",
    "        fit_ellipse_emcee_gauss = Ellipse((x_0_emcee, y_0_emcee), width=0.5 * FWHM_x_emcee*2, height=0.5 * FWHM_y_emcee*2,\n",
    "                                          angle=pa_deg_emcee, facecolor='none', edgecolor='blue', alpha=1.0, lw=1,\n",
    "                                          zorder=200)\n",
    "        ax[0].add_artist(fit_ellipse_emcee_gauss)\n",
    "        Gauss = myUtils.model_twoD_Gaussian([amplitude_emcee, x_0_emcee, y_0_emcee, sigma_x_emcee, sigma_y_emcee, angle_emcee],\n",
    "            x_grid2, y_grid2).reshape(50, 50)\n",
    "\n",
    "        a, b = r_eff_emcee, (1 - ellip_emcee) * r_eff_emcee\n",
    "        pa_deg_emcee = 180 - angle_sersic_emcee\n",
    "\n",
    "        fit_ellipse_emcee_ser = Ellipse((x_0_emcee, y_0_emcee), width=a*2, height=b*2,\n",
    "                                        angle=pa_deg_emcee, facecolor='none', edgecolor='green', alpha=1.0, lw=2,\n",
    "                                        zorder=200)\n",
    "\n",
    "        ax[0].add_artist(fit_ellipse_emcee_ser)\n",
    "        mod = Sersic2D(amplitude=amplitude_sersic_emcee, r_eff=r_eff_emcee, n=1, x_0=x_0_emcee, y_0=y_0_emcee, ellip=ellip_emcee, theta=np.radians(180 - angle_sersic_emcee))\n",
    "        Sersic = mod(x_grid2, y_grid2)\n",
    "\n",
    "        fobs2 = Sersic + Gauss\n",
    "\n",
    "        ax[0].legend(handles=[fit_ellipse_emcee_gauss, fit_ellipse_emcee_ser],\n",
    "                     labels=['Gaussian ellipse', 'Sersic ellipse'], fontsize=10)\n",
    "\n",
    "\n",
    "    ax[0].set_title(str(names[i]) + ' S/N: ' + str(round(sn)))\n",
    "    # add beam of the observation\n",
    "    pa = bpa + 90\n",
    "    bmaj = fits_file[0].header['BMAJ'] * 3600  # convert from degrees to arcsec en unidades de fwhm\n",
    "    bmin = fits_file[0].header['BMIN'] * 3600\n",
    "    beam = Ellipse((x_extent2[0] + bmaj, y_extent2[0] + bmin), width=bmaj * 0.5 * 2, height=bmin * 0.5 * 2, angle=pa, facecolor='grey', edgecolor='grey', alpha=1.0, zorder=100)\n",
    "    ax[0].add_artist(beam)\n",
    "\n",
    "    plt3 = ax[1].imshow((flux2 - fobs2), cmap='YlOrRd', origin='lower', extent=extent2, vmin=flux2.min(),\n",
    "                        vmax=flux2.max())\n",
    "    ax[1].tick_params(axis='y', which='both', bottom=False, top=False, labelbottom=False)\n",
    "    rms2 = myUtils.std_image((flux2 - fobs2))\n",
    "    levels = [-8 * rms2, -6 * rms2, -4 * rms2, -2 * rms2, 2 * rms2, 4 * rms2, 6 * rms2, 8 * rms2]\n",
    "\n",
    "    plt4 = ax[1].contour((flux2 - fobs2), levels, colors='k', alpha=0.8, linewidths=1.0, extent=extent2)\n",
    "    ax[1].set_xlabel('Relative RA [arcsec]')\n",
    "    ax[1].set_title('Residual map', fontsize=14)\n",
    "    ax[1].scatter(x_0_emcee, y_0_emcee, marker=\"x\", s=20)\n",
    "    plt.subplots_adjust(left=0.125, bottom=0.1, right=0.9, top=0.9, wspace=0, hspace=0.35)\n",
    "    cbar = fig.colorbar(plt3, ax=ax.ravel().tolist(), shrink=0.75, pad=0.01)\n",
    "    cbar.set_label(r'Flux density [$m$Jy]')\n",
    "\n",
    "    # plt.savefig('map_fit_' + str(names[i]) + '_' + profile + '.jpg', dpi=250)\n",
    "    plt.close(fig)\n",
    "\n",
    "    integr, integral_noise = myUtils.Tflux(parameters_fit_50, dx,profile,rms=myUtils.std_image(flux))\n",
    "\n",
    "    ### Save data to table ###\n",
    "    if profile == 'A':\n",
    "\n",
    "        data = data.append({'Source': names[i],\n",
    "                            'SN': sn,\n",
    "                            'Relative RA [arcsec]': x_0_emcee,\n",
    "                            'Relative RA low': x_0_emcee_low,\n",
    "                            'Relative RA up': x_0_emcee_up,\n",
    "                            'Relative Dec [arcsec]': y_0_emcee,\n",
    "                            'Relative Dec low': y_0_emcee_low,\n",
    "                            'Relative Dec up': y_0_emcee_up,\n",
    "                            'Effective radius [arcsec]': r_eff_emcee,\n",
    "                            'Effective radius low': r_eff_emcee_low,\n",
    "                            'Effective radius up ': r_eff_emcee_up,\n",
    "                            'Ellipticity': ellip_emcee,\n",
    "                            'Ellipticity low': ellip_emcee_low,\n",
    "                            'Ellipticity up': ellip_emcee_up,\n",
    "                            'Angle [deg]': angle_sersic_emcee,\n",
    "                            'Angle low': angle_sersic_emcee_low,\n",
    "                            'Angle up': angle_sersic_emcee_up,\n",
    "                            'Amplitude [mJy]': amplitude_sersic_emcee,\n",
    "                            'Amplitude low': amplitude_sersic_emcee_low,\n",
    "                            'Amplitude up': amplitude_sersic_emcee_up,\n",
    "                            'Beam min [arcsec]': fits_file[0].header['BMIN'] * 3600,\n",
    "                            'Beam maj [arcsec]': fits_file[0].header['BMAJ'] * 3600,\n",
    "                            'BIC': myUtils.bic(parameters_fit_50, x_grid, y_grid, flux, 'A'),\n",
    "                            'Flux [mJy]':integr,\n",
    "                            'Flux err':integral_noise}, ignore_index=True)\n",
    "\n",
    "    elif profile == 'B':\n",
    "\n",
    "        data = data.append({'Source': names[i],\n",
    "                            'SN': sn,\n",
    "                            'Relative RA [arcsec]': x_0_emcee,\n",
    "                            'Relative RA low': x_0_emcee_low,\n",
    "                            'Relative RA up': x_0_emcee_up,\n",
    "                            'Relative Dec [arcsec]': y_0_emcee,\n",
    "                            'Relative Dec low': y_0_emcee_low,\n",
    "                            'Relative Dec up': y_0_emcee_up,\n",
    "                            'FWHM x [arcsec]': FWHM_x_emcee,\n",
    "                            'FWHM x low': 2 * np.sqrt(2 * np.log(2)) * sigma_x_emcee_low,\n",
    "                            'FWHM x up': 2 * np.sqrt(2 * np.log(2)) * sigma_x_emcee_up,\n",
    "                            'FWHM y [arcsec]': FWHM_y_emcee,\n",
    "                            'FWHM y low': 2 * np.sqrt(2 * np.log(2)) * sigma_y_emcee_low,\n",
    "                            'FWHM y up': 2 * np.sqrt(2 * np.log(2)) * sigma_y_emcee_up,\n",
    "                            'Angle G [deg]': angle_emcee,\n",
    "                            'Angle G low': angle_emcee_low,\n",
    "                            'Angle G up': angle_emcee_up,\n",
    "                            'Amplitude G [mJy]': amplitude_emcee,\n",
    "                            'Amplitude G low': amplitude_emcee_low,\n",
    "                            'Amplitude G up': amplitude_emcee_up,\n",
    "                            'Beam min [arcsec]': fits_file[0].header['BMIN'] * 3600,\n",
    "                            'Beam maj [arcsec]': fits_file[0].header['BMAJ'] * 3600,\n",
    "                            'BIC': myUtils.bic(parameters_fit_50, x_grid, y_grid, flux, 'B'),\n",
    "                            'Flux [mJy]':integr,\n",
    "                            'Flux err':integral_noise}, ignore_index=True)\n",
    "        print('end')\n",
    "\n",
    "    elif profile == 'C':\n",
    "        \n",
    "        \n",
    "        data = data.append({'Source': names[i],\n",
    "                        'SN': sn,\n",
    "                        'Relative RA [arcsec]': x_0_emcee,\n",
    "                        'Relative RA low': x_0_emcee_low,\n",
    "                        'Relative RA up': x_0_emcee_up,\n",
    "                        'Relative Dec [arcsec]': y_0_emcee,\n",
    "                        'Relative Dec low': y_0_emcee_low,\n",
    "                        'Relative Dec up': y_0_emcee_up,\n",
    "                        'FWHM x [arcsec]': FWHM_x_emcee,\n",
    "                        'FWHM x low': 2 * np.sqrt(2 * np.log(2)) * sigma_x_emcee_low,\n",
    "                        'FWHM x up': 2 * np.sqrt(2 * np.log(2)) * sigma_x_emcee_up,\n",
    "                        'FWHM y [arcsec]': FWHM_y_emcee,\n",
    "                        'FWHM y low': 2 * np.sqrt(2 * np.log(2)) * sigma_y_emcee_low,\n",
    "                        'FWHM y up': 2 * np.sqrt(2 * np.log(2)) * sigma_y_emcee_up,\n",
    "                        'Angle G [deg]': angle_emcee,\n",
    "                        'Angle G low': angle_emcee_low,\n",
    "                        'Angle G up': angle_emcee_up,\n",
    "                        'Amplitude G [mJy]': amplitude_emcee,\n",
    "                        'Amplitude G low': amplitude_emcee_low,\n",
    "                        'Amplitude G up': amplitude_emcee_up,\n",
    "                        'Amplitude S [mJy]': amplitude_sersic_emcee,\n",
    "                        'Amplitude S low': amplitude_sersic_emcee_low,\n",
    "                        'Amplitude S up': amplitude_sersic_emcee_up,\n",
    "                        'Angle S [deg]': angle_sersic_emcee,\n",
    "                        'Angle S low': angle_sersic_emcee_low,\n",
    "                        'Angle S up': angle_sersic_emcee_up,\n",
    "                        'Effective radius [arcsec]': r_eff_emcee,\n",
    "                        'Effective radius low': r_eff_emcee_low,\n",
    "                        'Effective radius up': r_eff_emcee_up,\n",
    "                        'Ellipticity': ellip_emcee,\n",
    "                        'Ellipticity low': ellip_emcee_low,\n",
    "                        'Ellipticity up': ellip_emcee_up,\n",
    "                        'Beam min [arcsec]':fits_file[0].header['BMIN'] * 3600,\n",
    "                        'Beam maj [arcsec]':fits_file[0].header['BMAJ'] * 3600,\n",
    "                        'BIC':myUtils.bic(parameters_fit_50, x_grid, y_grid, flux, profile),\n",
    "                        'Flux [mJy]':integr,\n",
    "                        'Flux err':integral_noise              \n",
    "                        }, ignore_index=True)\n",
    "\n",
    "# data.to_csv('data_fit_sersic.csv', index=False, sep=',')\n"
   ]
  },
  {
   "cell_type": "code",
   "execution_count": null,
   "id": "abe79bd3-2caa-4fea-bd5b-f610a5f4dbc0",
   "metadata": {},
   "outputs": [],
   "source": []
  },
  {
   "cell_type": "code",
   "execution_count": 3,
   "id": "bd61a660-365d-45e8-b0cc-97fab26cf2fb",
   "metadata": {
    "tags": []
   },
   "outputs": [],
   "source": [
    "from astropy.convolution import Gaussian2DKernel\n",
    "from astropy.convolution import convolve\n",
    "amplitude, x_0, y_0, sigma_x, sigma_y, angle, amplitude_sersic, r_eff, ellip, angle_sersic = parameters_fit_50\n",
    "theta1 = [amplitude, x_0, y_0, sigma_x, sigma_y, angle]\n",
    "theta2 = [amplitude_sersic, r_eff, x_0, y_0, ellip, angle_sersic]\n",
    "gauss_point = myUtils.model_twoD_Gaussian(theta1, x_grid, y_grid).reshape(34,34)\n",
    "beam_gauss_kernel = Gaussian2DKernel(bmaj,bmin,theta=np.radians(bpa-90))\n",
    "astropy_conv = convolve(gauss_point, beam_gauss_kernel)\n",
    "\n",
    "model = astropy_conv.ravel() + myUtils.model_Sersic(theta2, x_grid, y_grid)"
   ]
  },
  {
   "cell_type": "code",
   "execution_count": 4,
   "id": "b041310b-70de-4e75-aac0-91ba40155ff8",
   "metadata": {
    "tags": []
   },
   "outputs": [
    {
     "data": {
      "text/plain": [
       "0.127690181136144"
      ]
     },
     "execution_count": 4,
     "metadata": {},
     "output_type": "execute_result"
    }
   ],
   "source": [
    "bmaj"
   ]
  },
  {
   "cell_type": "code",
   "execution_count": 5,
   "id": "86814d78-9927-4a76-875d-d62c2671a438",
   "metadata": {
    "tags": []
   },
   "outputs": [
    {
     "data": {
      "text/plain": [
       "0.018806005306339434"
      ]
     },
     "execution_count": 5,
     "metadata": {},
     "output_type": "execute_result"
    }
   ],
   "source": [
    "sigma_x"
   ]
  },
  {
   "cell_type": "code",
   "execution_count": 11,
   "id": "b43d95b8-1ce6-415f-b67f-54f40384a9dd",
   "metadata": {
    "tags": []
   },
   "outputs": [
    {
     "data": {
      "text/plain": [
       "<matplotlib.image.AxesImage at 0x226bf351460>"
      ]
     },
     "execution_count": 11,
     "metadata": {},
     "output_type": "execute_result"
    },
    {
     "data": {
      "image/png": "[encoded data removed]",
      "text/plain": [
       "<Figure size 640x480 with 1 Axes>"
      ]
     },
     "metadata": {},
     "output_type": "display_data"
    }
   ],
   "source": [
    "plt.imshow(astropy_conv)"
   ]
  },
  {
   "cell_type": "code",
   "execution_count": 12,
   "id": "3f8960c9-ca99-4396-8643-0c0568bb194d",
   "metadata": {
    "tags": []
   },
   "outputs": [
    {
     "data": {
      "text/plain": [
       "<matplotlib.image.AxesImage at 0x227185e3550>"
      ]
     },
     "execution_count": 12,
     "metadata": {},
     "output_type": "execute_result"
    },
    {
     "data": {
      "image/png": "[encoded data removed]",
      "text/plain": [
       "<Figure size 640x480 with 1 Axes>"
      ]
     },
     "metadata": {},
     "output_type": "display_data"
    }
   ],
   "source": [
    "plt.imshow(gauss_point)"
   ]
  },
  {
   "cell_type": "code",
   "execution_count": null,
   "id": "b6651626-2c29-409d-b570-57a1359561ee",
   "metadata": {
    "tags": []
   },
   "outputs": [],
   "source": [
    "pd.options.display.max_columns = None\n",
    "\n",
    "data"
   ]
  },
  {
   "cell_type": "code",
   "execution_count": 13,
   "id": "a346d8ac-ef12-489f-b94c-fe630c1ceafd",
   "metadata": {
    "tags": []
   },
   "outputs": [],
   "source": [
    "data.to_csv('data_fit_sersic.csv', index=False, sep=',')\n"
   ]
  },
  {
   "cell_type": "code",
   "execution_count": 12,
   "id": "abd7c545-92ee-4d1f-84c3-045aa112c836",
   "metadata": {
    "tags": []
   },
   "outputs": [
    {
     "data": {
      "text/plain": [
       "[481.74917389253886,\n",
       " 0.008559985216813441,\n",
       " 0.001912692736525125,\n",
       " 0.02956425192537797,\n",
       " 0.00027845300329502616,\n",
       " 179.6810685468938,\n",
       " 0.007666077030692147,\n",
       " 0.12284149997131896,\n",
       " 0.13239768154767684,\n",
       " 174.29474071043066]"
      ]
     },
     "execution_count": 12,
     "metadata": {},
     "output_type": "execute_result"
    }
   ],
   "source": [
    "parameters_fit_50"
   ]
  },
  {
   "cell_type": "code",
   "execution_count": 24,
   "id": "ed44ea6e-987b-4e32-8786-69ce10c183dc",
   "metadata": {
    "tags": []
   },
   "outputs": [],
   "source": [
    "bmaj = fits_file[0].header['BMAJ'] * 3600  # convert from degrees to arcsec en unidades de fwhm\n",
    "bmin = fits_file[0].header['BMIN'] * 3600"
   ]
  },
  {
   "cell_type": "code",
   "execution_count": 45,
   "id": "032c71bf-ff1b-4f31-9e19-de92f9d9f268",
   "metadata": {
    "tags": []
   },
   "outputs": [
    {
     "data": {
      "text/plain": [
       "-81.20117950439"
      ]
     },
     "execution_count": 45,
     "metadata": {},
     "output_type": "execute_result"
    }
   ],
   "source": [
    "bpa = fits_file[0].header['BPA']\n",
    "bpa"
   ]
  },
  {
   "cell_type": "code",
   "execution_count": 46,
   "id": "94ee894d-96e0-4790-bd93-5479b73aecf3",
   "metadata": {
    "tags": []
   },
   "outputs": [
    {
     "data": {
      "text/plain": [
       "<matplotlib.image.AxesImage at 0x25a5aec0190>"
      ]
     },
     "execution_count": 46,
     "metadata": {},
     "output_type": "execute_result"
    },
    {
     "data": {
      "image/png": "[encoded data removed]",
      "text/plain": [
       "<Figure size 640x480 with 1 Axes>"
      ]
     },
     "metadata": {},
     "output_type": "display_data"
    }
   ],
   "source": [
    "x_extent = (np.array([0., flux.shape[1]]) - (flux.shape[1] - x_center + 0.5)) * dx * 3600 * (-1)  # half pixel to center the map\n",
    "y_extent = (np.array([0., flux.shape[0]]) - (flux.shape[0] - y_center + 0.5)) * dy * 3600\n",
    "extent = [x_extent[0], x_extent[1], y_extent[0], y_extent[1]]\n",
    "\n",
    "x_grid = np.linspace(x_extent[0], x_extent[1], flux.shape[1])\n",
    "y_grid = np.linspace(y_extent[0], y_extent[1], flux.shape[0])\n",
    "x_grid, y_grid = np.meshgrid(x_grid, y_grid)\n",
    "\n",
    "Gauss = myUtils.model_twoD_Gaussian([.5, 0, 0, 0.05, 0.02, bpa], x_grid, y_grid).reshape(34,34)\n",
    "plt1 = plt.imshow(Gauss.reshape(34,34), cmap='YlOrRd', origin='lower', extent=extent, vmin=Gauss.min(), vmax=Gauss.max())\n",
    "fig.colorbar(ax=ax, mappable=plt1, orientation='vertical')\n",
    "plt.imshow(Gauss)"
   ]
  },
  {
   "cell_type": "code",
   "execution_count": 28,
   "id": "c0e88978-a253-43ca-8b35-1f46fea16d01",
   "metadata": {
    "tags": []
   },
   "outputs": [
    {
     "data": {
      "image/png": "[encoded data removed]",
      "text/plain": [
       "<Figure size 640x480 with 2 Axes>"
      ]
     },
     "metadata": {},
     "output_type": "display_data"
    }
   ],
   "source": [
    "from astropy.convolution import convolve, Gaussian2DKernel\n",
    "gaussian_2D_kernel = Gaussian2DKernel(bmaj,bmin)\n",
    "plt.imshow(gaussian_2D_kernel, interpolation='none', origin='lower')\n",
    "plt.xlabel('x [pixels]')\n",
    "plt.ylabel('y [pixels]')\n",
    "plt.colorbar()\n",
    "plt.show()"
   ]
  },
  {
   "cell_type": "code",
   "execution_count": null,
   "id": "62cdb15b-e1cc-4913-adea-a1bc2eaa4224",
   "metadata": {},
   "outputs": [],
   "source": []
  }
 ],
 "metadata": {
  "kernelspec": {
   "display_name": "Python 3 (ipykernel)",
   "language": "python",
   "name": "python3"
  },
  "language_info": {
   "codemirror_mode": {
    "name": "ipython",
    "version": 3
   },
   "file_extension": ".py",
   "mimetype": "text/x-python",
   "name": "python",
   "nbconvert_exporter": "python",
   "pygments_lexer": "ipython3",
   "version": "3.9.16"
  }
 },
 "nbformat": 4,
 "nbformat_minor": 5
}
