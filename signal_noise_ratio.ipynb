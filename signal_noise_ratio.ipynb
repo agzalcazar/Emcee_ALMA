{
 "cells": [
  {
   "cell_type": "code",
   "execution_count": 6,
   "id": "1614d8b8",
   "metadata": {},
   "outputs": [],
   "source": [
    "import emcee\n",
    "import numpy as np\n",
    "import matplotlib.pyplot as plt\n",
    "from matplotlib.colorbar import Colorbar\n",
    "import astropy.io.fits as pyfits\n",
    "import scipy.optimize as opt\n",
    "import corner\n",
    "import os\n",
    "import utils as myUtils\n",
    "import scipy.integrate as integrate\n",
    "import matplotlib.gridspec as gridspec\n",
    "from matplotlib.patches import Ellipse"
   ]
  },
  {
   "cell_type": "code",
   "execution_count": 32,
   "id": "98a794eb",
   "metadata": {},
   "outputs": [],
   "source": [
    "path = r'G:\\Mi unidad\\Universidad\\Master_Astro\\TFM\\ALMA_images\\Original\\\\'\n",
    "save = r'G:\\Mi unidad\\Universidad\\Master_Astro\\TFM\\ALMA_images\\Full_images\\\\'\n",
    "sources = os.listdir(path)[0:-1]\n"
   ]
  },
  {
   "cell_type": "code",
   "execution_count": 14,
   "id": "465841e1",
   "metadata": {},
   "outputs": [],
   "source": [
    "def s_n(flux):\n",
    "    max_signal = np.nanmax(flux)\n",
    "    std = myUtils.std_image(flux)\n",
    "    return max_signal/std"
   ]
  },
  {
   "cell_type": "code",
   "execution_count": 43,
   "id": "c2083cb2",
   "metadata": {
    "scrolled": false
   },
   "outputs": [],
   "source": [
    "source_SN = {}\n",
    "for i in range(0,len(sources)):\n",
    "    fits_file  = pyfits.open(path+sources[i])\n",
    "    \n",
    "    if sources[i]=='cont_clean_AL-75.1_plot_briggs.fits':\n",
    "        flux = fits_file[0].data *10**3\n",
    "    else:\n",
    "        flux = fits_file[0].data[0][0] *10**3\n",
    "        \n",
    "    flux = myUtils.zoom(flux,450)\n",
    "    x_center = flux.shape[0]/2 \n",
    "    y_center = flux.shape[1]/2\n",
    "    ra_center=fits_file[0].header['CRVAL1']\n",
    "    dec_center=fits_file[0].header['CRVAL2']\n",
    "    dx=fits_file[0].header['CDELT1']\n",
    "    dy=fits_file[0].header['CDELT2']\n",
    "\n",
    "\n",
    "    x_extent = (np.array([0., flux.shape[1]]) - (flux.shape[1] - x_center + 0.5)) * dx * 3600 * (-1)  # half pixel to center the map\n",
    "    y_extent = (np.array([0., flux.shape[0]]) - (flux.shape[0] - y_center + 0.5)) * dy * 3600\n",
    "    extent = [x_extent[0], x_extent[1], y_extent[0], y_extent[1]]\n",
    "\n",
    "    x_grid = np.linspace(x_extent[0], x_extent[1], flux.shape[1])\n",
    "    y_grid = np.linspace(y_extent[0], y_extent[1], flux.shape[0])\n",
    "    x_grid, y_grid = np.meshgrid(x_grid, y_grid)\n",
    "    \n",
    "    plt.rcParams.update({'font.size': 16})\n",
    "    plt.rcParams.update({'xtick.labelsize': 16})\n",
    "    plt.rcParams.update({'ytick.labelsize': 16})\n",
    "    plt.rcParams.update({'axes.linewidth': 2})\n",
    "\n",
    "    fig, ax = plt.subplots()\n",
    "    plt1 = ax.imshow(flux, cmap='YlOrRd', origin='lower', extent=extent,vmin=flux.min(), vmax=flux.max())\n",
    "    cbar = fig.colorbar(plt1, ax=ax, shrink=0.75, pad=0.01)\n",
    "    cbar.set_label(r'Flux density [$m$Jy/beam]')\n",
    "    rms = myUtils.std_image(flux)\n",
    "    ax.scatter(x_center, y_center, marker=\"x\", s=20)\n",
    "    ax.set_xlabel('Relative RA [arcsec]')\n",
    "    ax.set_ylabel('Relative Dec [arcsec]')\n",
    "\n",
    "    plt.xlim(x_extent[0],x_extent[1])\n",
    "    plt.ylim(y_extent[0],y_extent[1])\n",
    "    \n",
    "    ax.set_title('Source: '+ str(names[i])+ '\\nS/N: '+ str(np.round(s_n(myUtils.zoom(flux,35)))))\n",
    "    plt.subplots_adjust(left=0, bottom=0.2, right=, top=0.8, wspace=0, hspace=0)\n",
    "    plt.savefig(save+str(names[i]) +'_full'+ '.jpg', dpi=250)\n",
    "    plt.close(fig)\n",
    "    source_SN[sources[i]]=s_n(myUtils.zoom(flux,35))\n",
    "    \n",
    "\n",
    "    "
   ]
  },
  {
   "cell_type": "code",
   "execution_count": 14,
   "id": "24cbbf29",
   "metadata": {},
   "outputs": [
    {
     "data": {
      "text/plain": [
       "{'cont_clean_AL-65.1_allspw_briggs.image.fits': 37.7892,\n",
       " 'cont_clean_AL-57.1_allspw_briggs.image.fits': 13.515666,\n",
       " 'cont_clean_AL115.1_allspw_briggs_new.image.fits': 35.081707,\n",
       " 'cont_clean_AL74.1_allspw_briggs_new.image.fits': 19.958647,\n",
       " 'cont_clean_AL71.1_allspw_briggs_new.image.fits': 27.776852,\n",
       " 'cont_clean_AL70.1_allspw_briggs_new.image.fits': 50.975853,\n",
       " 'cont_clean_AL49.1_allspw_briggs_new.image.fits': 36.77632,\n",
       " 'cont_clean_AL19.1_allspw_briggs_new.image.fits': 33.44033,\n",
       " 'cont_clean_AL11.1_allspw_briggs_new.image.fits': 22.547075,\n",
       " 'cont_clean_AL-122.1_allspw_briggs.image.fits': 24.507977,\n",
       " 'cont_clean_AL-116.2_allspw_briggs.image.fits': 21.89551,\n",
       " 'cont_clean_AL-84.1_allspw_briggs.image.fits': 29.138847,\n",
       " 'cont_clean_AL-80.1_allspw_briggs.image.fits': 17.246265,\n",
       " 'cont_clean_AL-75.1_allspw_briggs.image.fits': 7.214055,\n",
       " 'cont_clean_AL-66.1_allspw_briggs_new.image.fits': 4.779508,\n",
       " 'cont_clean_LESS76_allspw_briggs_new.image.fits': 21.595558,\n",
       " 'cont_clean_LESS73_allspw_briggs_new.image.fits': 15.367462,\n",
       " 'cont_clean_LESS67_allspw_briggs_new.image.fits': 12.890323,\n",
       " 'cont_clean_LESS45_allspw_briggs_new.image.fits': 14.099579,\n",
       " 'cont_clean_LESS39_allspw_briggs_new.image.fits': 23.010767,\n",
       " 'cont_clean_LESS29_allspw_briggs_new.image.fits': 30.465595,\n",
       " 'cont_clean_LESS17_allspw_briggs_new.image.fits': 27.433722,\n",
       " 'cont_clean_LESS15_allspw_briggs_new.image.fits': 10.076425,\n",
       " 'cont_clean_LESS10_allspw_briggs_new.image.fits': 8.287618,\n",
       " 'cont_clean_LESS9_allspw_briggs_new.image.fits': 13.494051,\n",
       " 'cont_clean_LESS5_allspw_briggs_new.image.fits': 17.287788,\n",
       " 'cont_clean_LESS3_allspw_briggs_new.image.fits': 25.774412,\n",
       " 'cont_clean_LESS1_allspw_briggs_new.image.fits': 28.14913,\n",
       " 'cont_clean_XID917_allspw_briggs.image.fits': 4.09922,\n",
       " 'cont_clean_XID371_allspw_briggs_new.image.fits': 16.347984,\n",
       " 'cont_clean_XID360_allspw_briggs.image.fits': 12.750988,\n",
       " 'cont_clean_XID301_allspw_briggs_new.image.fits': 22.116705,\n",
       " 'cont_clean_XID156_allspw_briggs_new.image.fits': 28.406858,\n",
       " 'cont_clean_XID36_allspw_briggs.image.fits': 24.803938,\n",
       " 'cont_clean_LESS112_allspw_briggs_new.image.fits': 10.927122,\n",
       " 'cont_clean_LESS101_allspw_briggs_new.image.fits': 17.539083,\n",
       " 'cont_clean_AL-75.1_plot_briggs.fits': 7.036028}"
      ]
     },
     "execution_count": 14,
     "metadata": {},
     "output_type": "execute_result"
    }
   ],
   "source": [
    "source_SN"
   ]
  },
  {
   "cell_type": "code",
   "execution_count": null,
   "id": "cc47f49f",
   "metadata": {},
   "outputs": [],
   "source": []
  }
 ],
 "metadata": {
  "kernelspec": {
   "display_name": "Python 3 (ipykernel)",
   "language": "python",
   "name": "python3"
  },
  "language_info": {
   "codemirror_mode": {
    "name": "ipython",
    "version": 3
   },
   "file_extension": ".py",
   "mimetype": "text/x-python",
   "name": "python",
   "nbconvert_exporter": "python",
   "pygments_lexer": "ipython3",
   "version": "3.7.0"
  }
 },
 "nbformat": 4,
 "nbformat_minor": 5
}
