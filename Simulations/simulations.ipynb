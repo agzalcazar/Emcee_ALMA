{
 "cells": [
  {
   "cell_type": "code",
   "execution_count": 16,
   "id": "be2b9590",
   "metadata": {},
   "outputs": [],
   "source": [
    "import numpy as np\n",
    "import utils as myUtils\n",
    "import matplotlib.pyplot as plt"
   ]
  },
  {
   "cell_type": "code",
   "execution_count": 109,
   "id": "e97ebd22",
   "metadata": {},
   "outputs": [],
   "source": [
    "n_sim= 10000\n",
    "for i in range(0,n_sim):\n",
    "    x = np.linspace(0, 34, 34)\n",
    "    y = np.linspace(0, 34, 34)\n",
    "    x, y = np.meshgrid(x, y)\n",
    "    amplitude = np.random.uniform(0,1)\n",
    "    x0 = 17.5\n",
    "    y0 = 17.5\n",
    "    sigma_x = np.random.uniform(1,10)\n",
    "    sigma_y = np.random.uniform(1,10)\n",
    "    angle = np.random.uniform(0,360)\n",
    "    theta = [amplitude, x0, y0, sigma_x, sigma_y, angle]\n",
    "    imagen = myUtils.model_twoD_Gaussian(theta, x, y).reshape(34,34)\n",
    "    np.save('sim_Gaussian_'+str(i),imagen)"
   ]
  },
  {
   "cell_type": "code",
   "execution_count": 9,
   "id": "f31be421",
   "metadata": {},
   "outputs": [
    {
     "data": {
      "text/plain": [
       "0.6671050089960677"
      ]
     },
     "execution_count": 9,
     "metadata": {},
     "output_type": "execute_result"
    }
   ],
   "source": []
  }
 ],
 "metadata": {
  "kernelspec": {
   "display_name": "Python 3 (ipykernel)",
   "language": "python",
   "name": "python3"
  },
  "language_info": {
   "codemirror_mode": {
    "name": "ipython",
    "version": 3
   },
   "file_extension": ".py",
   "mimetype": "text/x-python",
   "name": "python",
   "nbconvert_exporter": "python",
   "pygments_lexer": "ipython3",
   "version": "3.7.0"
  }
 },
 "nbformat": 4,
 "nbformat_minor": 5
}
