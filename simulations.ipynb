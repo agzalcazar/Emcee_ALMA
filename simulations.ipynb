{
 "cells": [
  {
   "cell_type": "code",
   "execution_count": 2,
   "id": "d38ddb89",
   "metadata": {},
   "outputs": [],
   "source": [
    "import numpy as np\n",
    "import utils as myUtils\n",
    "import matplotlib.pyplot as plt"
   ]
  },
  {
   "cell_type": "code",
   "execution_count": 3,
   "id": "e110aa92",
   "metadata": {},
   "outputs": [],
   "source": [
    "n_sim= 100000\n",
    "f = np.zeros((n_sim,34,34))\n",
    "for i in range(0,n_sim):\n",
    "    x = np.linspace(0, 34, 34)\n",
    "    y = np.linspace(0, 34, 34)\n",
    "    x, y = np.meshgrid(x, y)\n",
    "    amplitude = np.random.uniform(0,1)\n",
    "    x0 = np.random.uniform(16.5,17.5)\n",
    "    y0 = np.random.uniform(16.5,17.5)\n",
    "    sigma_x = np.random.uniform(0.1,10)\n",
    "    sigma_y = np.random.uniform(0.1,10)\n",
    "    angle = np.random.uniform(0,360)\n",
    "    theta = [amplitude, x0, y0, sigma_x, sigma_y, angle]\n",
    "    imagen = myUtils.model_twoD_Gaussian(theta, x, y).reshape(34,34)\n",
    "    imagen = imagen/imagen.max()\n",
    "#     np.save('sim_Gaussian_'+str(i),imagen)\n",
    "    f[i,:] = imagen\n",
    "    "
   ]
  },
  {
   "cell_type": "code",
   "execution_count": 5,
   "id": "b223dc2a",
   "metadata": {},
   "outputs": [],
   "source": [
    "np.save('simulations_join.npy',f)"
   ]
  },
  {
   "cell_type": "code",
   "execution_count": 112,
   "id": "d450db27",
   "metadata": {},
   "outputs": [],
   "source": [
    "f = np.zeros((10000,34,34))\n",
    "for i in range(0,n_sim):\n",
    "    f[i,:] = np.load('Simulations/sim_Gaussian_'+str(i)+'.npy')"
   ]
  }
 ],
 "metadata": {
  "kernelspec": {
   "display_name": "Python 3 (ipykernel)",
   "language": "python",
   "name": "python3"
  },
  "language_info": {
   "codemirror_mode": {
    "name": "ipython",
    "version": 3
   },
   "file_extension": ".py",
   "mimetype": "text/x-python",
   "name": "python",
   "nbconvert_exporter": "python",
   "pygments_lexer": "ipython3",
   "version": "3.7.0"
  }
 },
 "nbformat": 4,
 "nbformat_minor": 5
}
